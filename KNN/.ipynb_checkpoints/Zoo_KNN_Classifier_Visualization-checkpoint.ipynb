{
 "cells": [
  {
   "cell_type": "markdown",
   "id": "d60c04e2",
   "metadata": {},
   "source": [
    "# K-Nearest Neighbors (KNN) Classifier for Zoo Dataset\n",
    "This notebook demonstrates the implementation of a KNN classifier using the Zoo dataset."
   ]
  },
  {
   "cell_type": "code",
   "execution_count": 1,
   "id": "c58e5dd5",
   "metadata": {},
   "outputs": [
    {
     "name": "stderr",
     "output_type": "stream",
     "text": [
      "C:\\ProgramData\\anaconda3\\Lib\\site-packages\\sklearn\\metrics\\_classification.py:1344: UndefinedMetricWarning: Precision and F-score are ill-defined and being set to 0.0 in labels with no predicted samples. Use `zero_division` parameter to control this behavior.\n",
      "  _warn_prf(average, modifier, msg_start, len(result))\n",
      "C:\\ProgramData\\anaconda3\\Lib\\site-packages\\sklearn\\metrics\\_classification.py:1344: UndefinedMetricWarning: Precision and F-score are ill-defined and being set to 0.0 in labels with no predicted samples. Use `zero_division` parameter to control this behavior.\n",
      "  _warn_prf(average, modifier, msg_start, len(result))\n",
      "C:\\ProgramData\\anaconda3\\Lib\\site-packages\\sklearn\\metrics\\_classification.py:1344: UndefinedMetricWarning: Precision and F-score are ill-defined and being set to 0.0 in labels with no predicted samples. Use `zero_division` parameter to control this behavior.\n",
      "  _warn_prf(average, modifier, msg_start, len(result))\n"
     ]
    },
    {
     "data": {
      "text/plain": [
       "(0.9523809523809523,\n",
       " '              precision    recall  f1-score   support\\n\\n           1       1.00      1.00      1.00        12\\n           2       1.00      1.00      1.00         2\\n           3       0.00      0.00      0.00         1\\n           4       0.67      1.00      0.80         2\\n           6       1.00      1.00      1.00         3\\n           7       1.00      1.00      1.00         1\\n\\n    accuracy                           0.95        21\\n   macro avg       0.78      0.83      0.80        21\\nweighted avg       0.92      0.95      0.93        21\\n')"
      ]
     },
     "execution_count": 1,
     "metadata": {},
     "output_type": "execute_result"
    }
   ],
   "source": [
    "import pandas as pd\n",
    "from sklearn.model_selection import train_test_split\n",
    "from sklearn.preprocessing import StandardScaler\n",
    "from sklearn.neighbors import KNeighborsClassifier\n",
    "from sklearn.metrics import classification_report, accuracy_score\n",
    "\n",
    "# Load the Zoo dataset\n",
    "zoo_data = pd.read_csv('Zoo.csv')\n",
    "\n",
    "# Drop the animal name as it's not a useful feature for classification\n",
    "X = zoo_data.drop(columns=[\"animal name\", \"type\"])\n",
    "y = zoo_data[\"type\"]\n",
    "\n",
    "# Split the dataset into training (80%) and testing (20%) sets\n",
    "X_train, X_test, y_train, y_test = train_test_split(X, y, test_size=0.2, random_state=42)\n",
    "\n",
    "# Scale the features for better performance of KNN\n",
    "scaler = StandardScaler()\n",
    "X_train_scaled = scaler.fit_transform(X_train)\n",
    "X_test_scaled = scaler.transform(X_test)\n",
    "\n",
    "# Implementing the KNN classifier\n",
    "knn_zoo = KNeighborsClassifier(n_neighbors=5)\n",
    "knn_zoo.fit(X_train_scaled, y_train)\n",
    "\n",
    "# Predicting the test set results\n",
    "y_pred_zoo = knn_zoo.predict(X_test_scaled)\n",
    "\n",
    "# Evaluating the model performance\n",
    "accuracy_zoo = accuracy_score(y_test, y_pred_zoo)\n",
    "report_zoo = classification_report(y_test, y_pred_zoo)\n",
    "\n",
    "# Display the results\n",
    "accuracy_zoo, report_zoo"
   ]
  },
  {
   "cell_type": "markdown",
   "id": "00348f0f",
   "metadata": {},
   "source": [
    "### Model Accuracy and Classification Report"
   ]
  },
  {
   "cell_type": "code",
   "execution_count": 2,
   "id": "8aef02c3",
   "metadata": {},
   "outputs": [
    {
     "name": "stdout",
     "output_type": "stream",
     "text": [
      "Accuracy of KNN on Zoo dataset: 0.9523809523809523\n",
      "Classification Report:\n",
      "               precision    recall  f1-score   support\n",
      "\n",
      "           1       1.00      1.00      1.00        12\n",
      "           2       1.00      1.00      1.00         2\n",
      "           3       0.00      0.00      0.00         1\n",
      "           4       0.67      1.00      0.80         2\n",
      "           6       1.00      1.00      1.00         3\n",
      "           7       1.00      1.00      1.00         1\n",
      "\n",
      "    accuracy                           0.95        21\n",
      "   macro avg       0.78      0.83      0.80        21\n",
      "weighted avg       0.92      0.95      0.93        21\n",
      "\n"
     ]
    }
   ],
   "source": [
    "# Output the accuracy and classification report\n",
    "print(\"Accuracy of KNN on Zoo dataset:\", accuracy_zoo)\n",
    "print(\"Classification Report:\\n\", report_zoo)"
   ]
  }
 ],
 "metadata": {
  "kernelspec": {
   "display_name": "Python 3 (ipykernel)",
   "language": "python",
   "name": "python3"
  },
  "language_info": {
   "codemirror_mode": {
    "name": "ipython",
    "version": 3
   },
   "file_extension": ".py",
   "mimetype": "text/x-python",
   "name": "python",
   "nbconvert_exporter": "python",
   "pygments_lexer": "ipython3",
   "version": "3.11.3"
  }
 },
 "nbformat": 4,
 "nbformat_minor": 5
}
