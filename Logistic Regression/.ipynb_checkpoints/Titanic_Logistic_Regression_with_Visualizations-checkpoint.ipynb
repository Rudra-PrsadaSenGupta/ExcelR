{
 "cells": [
  {
   "cell_type": "markdown",
   "id": "d9396f88",
   "metadata": {},
   "source": [
    "\n",
    "## Interview Question 1: What is Normalization & Standardization and how is it helpful?\n",
    "\n",
    "### **Normalization**:\n",
    "Normalization is the process of scaling individual data points within a specific range, typically between 0 and 1. This technique is especially useful when the features have different ranges, as it helps bring all features to a common scale.\n",
    "\n",
    "- **Formula for Normalization**:\n",
    "  \\[\n",
    "  X_{norm} = \f",
    "rac{X - X_{min}}{X_{max} - X_{min}}\n",
    "  \\]\n",
    "  \n",
    "Normalization is particularly useful in algorithms that rely on distance metrics (like K-Nearest Neighbors or clustering algorithms) as it ensures that features with large values do not dominate features with smaller values.\n",
    "\n",
    "### **Standardization**:\n",
    "Standardization involves rescaling data so that it has a mean of 0 and a standard deviation of 1. It ensures that the data follows a standard normal distribution (with mean = 0 and standard deviation = 1).\n",
    "\n",
    "- **Formula for Standardization**:\n",
    "  \\[\n",
    "  X_{std} = \f",
    "rac{X - \\mu}{\\sigma}\n",
    "  \\]\n",
    "  where:\n",
    "  - \\(X\\) is the feature value\n",
    "  - \\(\\mu\\) is the mean of the feature\n",
    "  - \\(\\sigma\\) is the standard deviation\n",
    "\n",
    "Standardization is often preferred when dealing with features that have different units or distributions. It is useful for models like regression, SVM, and PCA.\n",
    "\n",
    "### **Benefits**:\n",
    "- Both techniques help to improve model convergence during training.\n",
    "- They reduce the bias of certain features dominating the learning process due to scale.\n"
   ]
  },
  {
   "cell_type": "markdown",
   "id": "0ef5e23d",
   "metadata": {},
   "source": [
    "\n",
    "## Interview Question 2: What techniques can be used to address multicollinearity in multiple linear regression?\n",
    "\n",
    "### **Multicollinearity**:\n",
    "Multicollinearity occurs when two or more independent variables in a multiple regression model are highly correlated. This can lead to instability in the model coefficients, making it difficult to determine the individual effect of each variable on the dependent variable.\n",
    "\n",
    "### **Techniques to Address Multicollinearity**:\n",
    "\n",
    "1. **Variance Inflation Factor (VIF)**:\n",
    "   - VIF quantifies the extent of multicollinearity by measuring how much the variance of a regression coefficient is inflated due to multicollinearity.\n",
    "   - A VIF value above 10 indicates significant multicollinearity.\n",
    "   - Removing variables with high VIF can reduce multicollinearity.\n",
    "\n",
    "2. **Removing or Combining Highly Correlated Features**:\n",
    "   - If two variables are highly correlated, one can be removed, or both can be combined (e.g., using principal component analysis) to reduce redundancy.\n",
    "\n",
    "3. **Regularization Techniques**:\n",
    "   - **Ridge Regression**: Ridge adds a penalty to the size of coefficients, effectively shrinking them, which reduces the impact of multicollinearity.\n",
    "   - **Lasso Regression**: Lasso adds a penalty that can shrink some coefficients to zero, thus performing feature selection and reducing multicollinearity.\n",
    "   \n",
    "4. **Principal Component Analysis (PCA)**:\n",
    "   - PCA can reduce multicollinearity by transforming correlated variables into a smaller set of uncorrelated components, which can then be used in regression.\n",
    "\n",
    "5. **Dropping Variables**:\n",
    "   - Another straightforward technique is to drop variables that exhibit high correlation with others. This can reduce multicollinearity but may also lead to loss of information.\n"
   ]
  },
  {
   "cell_type": "markdown",
   "id": "fc3a6cac",
   "metadata": {},
   "source": [
    "\n",
    "## Visualizing Normalization & Standardization\n",
    "\n",
    "### **Standardization Example**:\n",
    "Standardization transforms data to have a mean of 0 and a standard deviation of 1. This process helps in algorithms like linear regression, logistic regression, and principal component analysis (PCA), which assume normally distributed data.\n",
    "\n",
    "```python\n",
    "from sklearn.preprocessing import StandardScaler\n",
    "\n",
    "scaler = StandardScaler()\n",
    "X_scaled = scaler.fit_transform(df[['Age_08_04', 'KM', 'HP']])\n",
    "\n",
    "# Plotting the distributions before and after standardization\n",
    "fig, (ax1, ax2) = plt.subplots(1, 2, figsize=(12,6))\n",
    "\n",
    "# Original Data\n",
    "sns.histplot(df[['Age_08_04', 'KM', 'HP']], ax=ax1, kde=True)\n",
    "ax1.set_title('Original Data Distribution')\n",
    "\n",
    "# Standardized Data\n",
    "sns.histplot(X_scaled, ax=ax2, kde=True)\n",
    "ax2.set_title('Standardized Data Distribution')\n",
    "\n",
    "plt.show()\n",
    "```\n",
    "\n",
    "### **Normalization Example**:\n",
    "Normalization scales the data between a defined range, usually 0 and 1. This technique is important for distance-based algorithms such as K-Nearest Neighbors or clustering.\n",
    "\n",
    "```python\n",
    "from sklearn.preprocessing import MinMaxScaler\n",
    "\n",
    "scaler = MinMaxScaler()\n",
    "X_normalized = scaler.fit_transform(df[['Age_08_04', 'KM', 'HP']])\n",
    "\n",
    "# Plotting the distributions before and after normalization\n",
    "fig, (ax1, ax2) = plt.subplots(1, 2, figsize=(12,6))\n",
    "\n",
    "# Original Data\n",
    "sns.histplot(df[['Age_08_04', 'KM', 'HP']], ax=ax1, kde=True)\n",
    "ax1.set_title('Original Data Distribution')\n",
    "\n",
    "# Normalized Data\n",
    "sns.histplot(X_normalized, ax=ax2, kde=True)\n",
    "ax2.set_title('Normalized Data Distribution')\n",
    "\n",
    "plt.show()\n",
    "```\n"
   ]
  },
  {
   "cell_type": "markdown",
   "id": "03a420a5",
   "metadata": {},
   "source": [
    "# Multiple Linear Regression with Multicollinearity Handling"
   ]
  },
  {
   "cell_type": "markdown",
   "id": "c9b80dc5",
   "metadata": {},
   "source": [
    "\n",
    "## Visualizing Multicollinearity\n",
    "\n",
    "One of the most common methods to detect multicollinearity is through a correlation matrix and VIF values.\n",
    "\n",
    "```python\n",
    "# Plotting the correlation matrix\n",
    "plt.figure(figsize=(10,8))\n",
    "sns.heatmap(df_encoded.corr(), annot=True, cmap='coolwarm', fmt='.2f')\n",
    "plt.title('Correlation Matrix to Detect Multicollinearity')\n",
    "plt.show()\n",
    "\n",
    "# Bar plot for VIF values\n",
    "vif_data.plot(kind='bar', x='Feature', y='VIF', title='Variance Inflation Factor (VIF)', figsize=(10,6))\n",
    "plt.axhline(y=10, color='red', linestyle='--', label='VIF > 10 indicates multicollinearity')\n",
    "plt.legend()\n",
    "plt.show()\n",
    "```\n",
    "\n",
    "This visual representation highlights how multicollinearity can be detected in the features.\n"
   ]
  },
  {
   "cell_type": "code",
   "execution_count": 1,
   "id": "ad6c1080",
   "metadata": {},
   "outputs": [
    {
     "ename": "FileNotFoundError",
     "evalue": "[Errno 2] No such file or directory: '/mnt/data/ToyotaCorolla_MLR.csv'",
     "output_type": "error",
     "traceback": [
      "\u001b[1;31m---------------------------------------------------------------------------\u001b[0m",
      "\u001b[1;31mFileNotFoundError\u001b[0m                         Traceback (most recent call last)",
      "Cell \u001b[1;32mIn[1], line 13\u001b[0m\n\u001b[0;32m     10\u001b[0m \u001b[38;5;28;01mimport\u001b[39;00m \u001b[38;5;21;01mnumpy\u001b[39;00m \u001b[38;5;28;01mas\u001b[39;00m \u001b[38;5;21;01mnp\u001b[39;00m\n\u001b[0;32m     12\u001b[0m \u001b[38;5;66;03m# Load the dataset\u001b[39;00m\n\u001b[1;32m---> 13\u001b[0m df \u001b[38;5;241m=\u001b[39m pd\u001b[38;5;241m.\u001b[39mread_csv(\u001b[38;5;124m'\u001b[39m\u001b[38;5;124m/mnt/data/ToyotaCorolla_MLR.csv\u001b[39m\u001b[38;5;124m'\u001b[39m)\n\u001b[0;32m     15\u001b[0m \u001b[38;5;66;03m# One-hot encoding the 'Fuel_Type' column\u001b[39;00m\n\u001b[0;32m     16\u001b[0m df_encoded \u001b[38;5;241m=\u001b[39m pd\u001b[38;5;241m.\u001b[39mget_dummies(df, columns\u001b[38;5;241m=\u001b[39m[\u001b[38;5;124m'\u001b[39m\u001b[38;5;124mFuel_Type\u001b[39m\u001b[38;5;124m'\u001b[39m], drop_first\u001b[38;5;241m=\u001b[39m\u001b[38;5;28;01mTrue\u001b[39;00m)\n",
      "File \u001b[1;32mC:\\ProgramData\\anaconda3\\Lib\\site-packages\\pandas\\util\\_decorators.py:211\u001b[0m, in \u001b[0;36mdeprecate_kwarg.<locals>._deprecate_kwarg.<locals>.wrapper\u001b[1;34m(*args, **kwargs)\u001b[0m\n\u001b[0;32m    209\u001b[0m     \u001b[38;5;28;01melse\u001b[39;00m:\n\u001b[0;32m    210\u001b[0m         kwargs[new_arg_name] \u001b[38;5;241m=\u001b[39m new_arg_value\n\u001b[1;32m--> 211\u001b[0m \u001b[38;5;28;01mreturn\u001b[39;00m func(\u001b[38;5;241m*\u001b[39margs, \u001b[38;5;241m*\u001b[39m\u001b[38;5;241m*\u001b[39mkwargs)\n",
      "File \u001b[1;32mC:\\ProgramData\\anaconda3\\Lib\\site-packages\\pandas\\util\\_decorators.py:331\u001b[0m, in \u001b[0;36mdeprecate_nonkeyword_arguments.<locals>.decorate.<locals>.wrapper\u001b[1;34m(*args, **kwargs)\u001b[0m\n\u001b[0;32m    325\u001b[0m \u001b[38;5;28;01mif\u001b[39;00m \u001b[38;5;28mlen\u001b[39m(args) \u001b[38;5;241m>\u001b[39m num_allow_args:\n\u001b[0;32m    326\u001b[0m     warnings\u001b[38;5;241m.\u001b[39mwarn(\n\u001b[0;32m    327\u001b[0m         msg\u001b[38;5;241m.\u001b[39mformat(arguments\u001b[38;5;241m=\u001b[39m_format_argument_list(allow_args)),\n\u001b[0;32m    328\u001b[0m         \u001b[38;5;167;01mFutureWarning\u001b[39;00m,\n\u001b[0;32m    329\u001b[0m         stacklevel\u001b[38;5;241m=\u001b[39mfind_stack_level(),\n\u001b[0;32m    330\u001b[0m     )\n\u001b[1;32m--> 331\u001b[0m \u001b[38;5;28;01mreturn\u001b[39;00m func(\u001b[38;5;241m*\u001b[39margs, \u001b[38;5;241m*\u001b[39m\u001b[38;5;241m*\u001b[39mkwargs)\n",
      "File \u001b[1;32mC:\\ProgramData\\anaconda3\\Lib\\site-packages\\pandas\\io\\parsers\\readers.py:950\u001b[0m, in \u001b[0;36mread_csv\u001b[1;34m(filepath_or_buffer, sep, delimiter, header, names, index_col, usecols, squeeze, prefix, mangle_dupe_cols, dtype, engine, converters, true_values, false_values, skipinitialspace, skiprows, skipfooter, nrows, na_values, keep_default_na, na_filter, verbose, skip_blank_lines, parse_dates, infer_datetime_format, keep_date_col, date_parser, dayfirst, cache_dates, iterator, chunksize, compression, thousands, decimal, lineterminator, quotechar, quoting, doublequote, escapechar, comment, encoding, encoding_errors, dialect, error_bad_lines, warn_bad_lines, on_bad_lines, delim_whitespace, low_memory, memory_map, float_precision, storage_options)\u001b[0m\n\u001b[0;32m    935\u001b[0m kwds_defaults \u001b[38;5;241m=\u001b[39m _refine_defaults_read(\n\u001b[0;32m    936\u001b[0m     dialect,\n\u001b[0;32m    937\u001b[0m     delimiter,\n\u001b[1;32m   (...)\u001b[0m\n\u001b[0;32m    946\u001b[0m     defaults\u001b[38;5;241m=\u001b[39m{\u001b[38;5;124m\"\u001b[39m\u001b[38;5;124mdelimiter\u001b[39m\u001b[38;5;124m\"\u001b[39m: \u001b[38;5;124m\"\u001b[39m\u001b[38;5;124m,\u001b[39m\u001b[38;5;124m\"\u001b[39m},\n\u001b[0;32m    947\u001b[0m )\n\u001b[0;32m    948\u001b[0m kwds\u001b[38;5;241m.\u001b[39mupdate(kwds_defaults)\n\u001b[1;32m--> 950\u001b[0m \u001b[38;5;28;01mreturn\u001b[39;00m _read(filepath_or_buffer, kwds)\n",
      "File \u001b[1;32mC:\\ProgramData\\anaconda3\\Lib\\site-packages\\pandas\\io\\parsers\\readers.py:605\u001b[0m, in \u001b[0;36m_read\u001b[1;34m(filepath_or_buffer, kwds)\u001b[0m\n\u001b[0;32m    602\u001b[0m _validate_names(kwds\u001b[38;5;241m.\u001b[39mget(\u001b[38;5;124m\"\u001b[39m\u001b[38;5;124mnames\u001b[39m\u001b[38;5;124m\"\u001b[39m, \u001b[38;5;28;01mNone\u001b[39;00m))\n\u001b[0;32m    604\u001b[0m \u001b[38;5;66;03m# Create the parser.\u001b[39;00m\n\u001b[1;32m--> 605\u001b[0m parser \u001b[38;5;241m=\u001b[39m TextFileReader(filepath_or_buffer, \u001b[38;5;241m*\u001b[39m\u001b[38;5;241m*\u001b[39mkwds)\n\u001b[0;32m    607\u001b[0m \u001b[38;5;28;01mif\u001b[39;00m chunksize \u001b[38;5;129;01mor\u001b[39;00m iterator:\n\u001b[0;32m    608\u001b[0m     \u001b[38;5;28;01mreturn\u001b[39;00m parser\n",
      "File \u001b[1;32mC:\\ProgramData\\anaconda3\\Lib\\site-packages\\pandas\\io\\parsers\\readers.py:1442\u001b[0m, in \u001b[0;36mTextFileReader.__init__\u001b[1;34m(self, f, engine, **kwds)\u001b[0m\n\u001b[0;32m   1439\u001b[0m     \u001b[38;5;28mself\u001b[39m\u001b[38;5;241m.\u001b[39moptions[\u001b[38;5;124m\"\u001b[39m\u001b[38;5;124mhas_index_names\u001b[39m\u001b[38;5;124m\"\u001b[39m] \u001b[38;5;241m=\u001b[39m kwds[\u001b[38;5;124m\"\u001b[39m\u001b[38;5;124mhas_index_names\u001b[39m\u001b[38;5;124m\"\u001b[39m]\n\u001b[0;32m   1441\u001b[0m \u001b[38;5;28mself\u001b[39m\u001b[38;5;241m.\u001b[39mhandles: IOHandles \u001b[38;5;241m|\u001b[39m \u001b[38;5;28;01mNone\u001b[39;00m \u001b[38;5;241m=\u001b[39m \u001b[38;5;28;01mNone\u001b[39;00m\n\u001b[1;32m-> 1442\u001b[0m \u001b[38;5;28mself\u001b[39m\u001b[38;5;241m.\u001b[39m_engine \u001b[38;5;241m=\u001b[39m \u001b[38;5;28mself\u001b[39m\u001b[38;5;241m.\u001b[39m_make_engine(f, \u001b[38;5;28mself\u001b[39m\u001b[38;5;241m.\u001b[39mengine)\n",
      "File \u001b[1;32mC:\\ProgramData\\anaconda3\\Lib\\site-packages\\pandas\\io\\parsers\\readers.py:1735\u001b[0m, in \u001b[0;36mTextFileReader._make_engine\u001b[1;34m(self, f, engine)\u001b[0m\n\u001b[0;32m   1733\u001b[0m     \u001b[38;5;28;01mif\u001b[39;00m \u001b[38;5;124m\"\u001b[39m\u001b[38;5;124mb\u001b[39m\u001b[38;5;124m\"\u001b[39m \u001b[38;5;129;01mnot\u001b[39;00m \u001b[38;5;129;01min\u001b[39;00m mode:\n\u001b[0;32m   1734\u001b[0m         mode \u001b[38;5;241m+\u001b[39m\u001b[38;5;241m=\u001b[39m \u001b[38;5;124m\"\u001b[39m\u001b[38;5;124mb\u001b[39m\u001b[38;5;124m\"\u001b[39m\n\u001b[1;32m-> 1735\u001b[0m \u001b[38;5;28mself\u001b[39m\u001b[38;5;241m.\u001b[39mhandles \u001b[38;5;241m=\u001b[39m get_handle(\n\u001b[0;32m   1736\u001b[0m     f,\n\u001b[0;32m   1737\u001b[0m     mode,\n\u001b[0;32m   1738\u001b[0m     encoding\u001b[38;5;241m=\u001b[39m\u001b[38;5;28mself\u001b[39m\u001b[38;5;241m.\u001b[39moptions\u001b[38;5;241m.\u001b[39mget(\u001b[38;5;124m\"\u001b[39m\u001b[38;5;124mencoding\u001b[39m\u001b[38;5;124m\"\u001b[39m, \u001b[38;5;28;01mNone\u001b[39;00m),\n\u001b[0;32m   1739\u001b[0m     compression\u001b[38;5;241m=\u001b[39m\u001b[38;5;28mself\u001b[39m\u001b[38;5;241m.\u001b[39moptions\u001b[38;5;241m.\u001b[39mget(\u001b[38;5;124m\"\u001b[39m\u001b[38;5;124mcompression\u001b[39m\u001b[38;5;124m\"\u001b[39m, \u001b[38;5;28;01mNone\u001b[39;00m),\n\u001b[0;32m   1740\u001b[0m     memory_map\u001b[38;5;241m=\u001b[39m\u001b[38;5;28mself\u001b[39m\u001b[38;5;241m.\u001b[39moptions\u001b[38;5;241m.\u001b[39mget(\u001b[38;5;124m\"\u001b[39m\u001b[38;5;124mmemory_map\u001b[39m\u001b[38;5;124m\"\u001b[39m, \u001b[38;5;28;01mFalse\u001b[39;00m),\n\u001b[0;32m   1741\u001b[0m     is_text\u001b[38;5;241m=\u001b[39mis_text,\n\u001b[0;32m   1742\u001b[0m     errors\u001b[38;5;241m=\u001b[39m\u001b[38;5;28mself\u001b[39m\u001b[38;5;241m.\u001b[39moptions\u001b[38;5;241m.\u001b[39mget(\u001b[38;5;124m\"\u001b[39m\u001b[38;5;124mencoding_errors\u001b[39m\u001b[38;5;124m\"\u001b[39m, \u001b[38;5;124m\"\u001b[39m\u001b[38;5;124mstrict\u001b[39m\u001b[38;5;124m\"\u001b[39m),\n\u001b[0;32m   1743\u001b[0m     storage_options\u001b[38;5;241m=\u001b[39m\u001b[38;5;28mself\u001b[39m\u001b[38;5;241m.\u001b[39moptions\u001b[38;5;241m.\u001b[39mget(\u001b[38;5;124m\"\u001b[39m\u001b[38;5;124mstorage_options\u001b[39m\u001b[38;5;124m\"\u001b[39m, \u001b[38;5;28;01mNone\u001b[39;00m),\n\u001b[0;32m   1744\u001b[0m )\n\u001b[0;32m   1745\u001b[0m \u001b[38;5;28;01massert\u001b[39;00m \u001b[38;5;28mself\u001b[39m\u001b[38;5;241m.\u001b[39mhandles \u001b[38;5;129;01mis\u001b[39;00m \u001b[38;5;129;01mnot\u001b[39;00m \u001b[38;5;28;01mNone\u001b[39;00m\n\u001b[0;32m   1746\u001b[0m f \u001b[38;5;241m=\u001b[39m \u001b[38;5;28mself\u001b[39m\u001b[38;5;241m.\u001b[39mhandles\u001b[38;5;241m.\u001b[39mhandle\n",
      "File \u001b[1;32mC:\\ProgramData\\anaconda3\\Lib\\site-packages\\pandas\\io\\common.py:856\u001b[0m, in \u001b[0;36mget_handle\u001b[1;34m(path_or_buf, mode, encoding, compression, memory_map, is_text, errors, storage_options)\u001b[0m\n\u001b[0;32m    851\u001b[0m \u001b[38;5;28;01melif\u001b[39;00m \u001b[38;5;28misinstance\u001b[39m(handle, \u001b[38;5;28mstr\u001b[39m):\n\u001b[0;32m    852\u001b[0m     \u001b[38;5;66;03m# Check whether the filename is to be opened in binary mode.\u001b[39;00m\n\u001b[0;32m    853\u001b[0m     \u001b[38;5;66;03m# Binary mode does not support 'encoding' and 'newline'.\u001b[39;00m\n\u001b[0;32m    854\u001b[0m     \u001b[38;5;28;01mif\u001b[39;00m ioargs\u001b[38;5;241m.\u001b[39mencoding \u001b[38;5;129;01mand\u001b[39;00m \u001b[38;5;124m\"\u001b[39m\u001b[38;5;124mb\u001b[39m\u001b[38;5;124m\"\u001b[39m \u001b[38;5;129;01mnot\u001b[39;00m \u001b[38;5;129;01min\u001b[39;00m ioargs\u001b[38;5;241m.\u001b[39mmode:\n\u001b[0;32m    855\u001b[0m         \u001b[38;5;66;03m# Encoding\u001b[39;00m\n\u001b[1;32m--> 856\u001b[0m         handle \u001b[38;5;241m=\u001b[39m \u001b[38;5;28mopen\u001b[39m(\n\u001b[0;32m    857\u001b[0m             handle,\n\u001b[0;32m    858\u001b[0m             ioargs\u001b[38;5;241m.\u001b[39mmode,\n\u001b[0;32m    859\u001b[0m             encoding\u001b[38;5;241m=\u001b[39mioargs\u001b[38;5;241m.\u001b[39mencoding,\n\u001b[0;32m    860\u001b[0m             errors\u001b[38;5;241m=\u001b[39merrors,\n\u001b[0;32m    861\u001b[0m             newline\u001b[38;5;241m=\u001b[39m\u001b[38;5;124m\"\u001b[39m\u001b[38;5;124m\"\u001b[39m,\n\u001b[0;32m    862\u001b[0m         )\n\u001b[0;32m    863\u001b[0m     \u001b[38;5;28;01melse\u001b[39;00m:\n\u001b[0;32m    864\u001b[0m         \u001b[38;5;66;03m# Binary mode\u001b[39;00m\n\u001b[0;32m    865\u001b[0m         handle \u001b[38;5;241m=\u001b[39m \u001b[38;5;28mopen\u001b[39m(handle, ioargs\u001b[38;5;241m.\u001b[39mmode)\n",
      "\u001b[1;31mFileNotFoundError\u001b[0m: [Errno 2] No such file or directory: '/mnt/data/ToyotaCorolla_MLR.csv'"
     ]
    }
   ],
   "source": [
    "\n",
    "# Import necessary libraries\n",
    "import pandas as pd\n",
    "import statsmodels.api as sm\n",
    "from sklearn.model_selection import train_test_split\n",
    "from statsmodels.stats.outliers_influence import variance_inflation_factor\n",
    "import matplotlib.pyplot as plt\n",
    "import seaborn as sns\n",
    "from sklearn.linear_model import Ridge, Lasso\n",
    "from sklearn.metrics import mean_squared_error, r2_score\n",
    "import numpy as np\n",
    "\n",
    "# Load the dataset\n",
    "df = pd.read_csv('/mnt/data/ToyotaCorolla_MLR.csv')\n",
    "\n",
    "# One-hot encoding the 'Fuel_Type' column\n",
    "df_encoded = pd.get_dummies(df, columns=['Fuel_Type'], drop_first=True)\n",
    "\n",
    "# Defining the feature set (independent variables) and target variable (Price)\n",
    "X = df_encoded.drop(columns=['Price'])\n",
    "y = df_encoded['Price']\n",
    "\n",
    "# Adding a constant for the intercept term in the regression model\n",
    "X = sm.add_constant(X)\n",
    "\n",
    "# Splitting the data into training and testing sets\n",
    "X_train, X_test, y_train, y_test = train_test_split(X, y, test_size=0.2, random_state=42)\n",
    "\n",
    "# Calculating VIF to detect multicollinearity\n",
    "vif_data = pd.DataFrame()\n",
    "vif_data['Feature'] = X.columns\n",
    "vif_data['VIF'] = [variance_inflation_factor(X.values, i) for i in range(len(X.columns))]\n",
    "vif_data"
   ]
  },
  {
   "cell_type": "markdown",
   "id": "d40b8dc9",
   "metadata": {},
   "source": [
    "### Adjusting the model to reduce multicollinearity by removing highly collinear features"
   ]
  },
  {
   "cell_type": "code",
   "execution_count": null,
   "id": "3942e019",
   "metadata": {},
   "outputs": [],
   "source": [
    "\n",
    "# Dropping 'Cylinders', 'Weight', and 'Gears' due to high VIF\n",
    "X_reduced = X.drop(columns=['Cylinders', 'Weight', 'Gears'])\n",
    "\n",
    "# Recalculate VIF after reduction\n",
    "vif_data_reduced = pd.DataFrame()\n",
    "vif_data_reduced['Feature'] = X_reduced.columns\n",
    "vif_data_reduced['VIF'] = [variance_inflation_factor(X_reduced.values, i) for i in range(len(X_reduced.columns))]\n",
    "vif_data_reduced"
   ]
  },
  {
   "cell_type": "markdown",
   "id": "e73dc3a9",
   "metadata": {},
   "source": [
    "### Building and evaluating the multiple linear regression model"
   ]
  },
  {
   "cell_type": "code",
   "execution_count": null,
   "id": "d26dd4fa",
   "metadata": {},
   "outputs": [],
   "source": [
    "\n",
    "# Aligning indices before fitting the model\n",
    "X_train_aligned, y_train_aligned = X_reduced.loc[y_train.index], y_train\n",
    "\n",
    "# Fitting the OLS model\n",
    "model = sm.OLS(y_train_aligned, X_train_aligned).fit()\n",
    "model.summary()\n"
   ]
  },
  {
   "cell_type": "markdown",
   "id": "cfd663b7",
   "metadata": {},
   "source": [
    "### Applying Ridge and Lasso Regression to address multicollinearity"
   ]
  },
  {
   "cell_type": "code",
   "execution_count": null,
   "id": "735e9475",
   "metadata": {},
   "outputs": [],
   "source": [
    "\n",
    "# Ridge and Lasso regression\n",
    "ridge_model = Ridge(alpha=1.0).fit(X_train_aligned, y_train_aligned)\n",
    "lasso_model = Lasso(alpha=1.0).fit(X_train_aligned, y_train_aligned)\n",
    "\n",
    "# Predicting and calculating AIC, BIC for Ridge and Lasso\n",
    "n = len(y_train_aligned)\n",
    "p = X_train_aligned.shape[1]\n",
    "\n",
    "ridge_aic = n * np.log(mean_squared_error(y_train_aligned, ridge_model.predict(X_train_aligned))) + 2 * p\n",
    "ridge_bic = n * np.log(mean_squared_error(y_train_aligned, ridge_model.predict(X_train_aligned))) + p * np.log(n)\n",
    "\n",
    "lasso_aic = n * np.log(mean_squared_error(y_train_aligned, lasso_model.predict(X_train_aligned))) + 2 * p\n",
    "lasso_bic = n * np.log(mean_squared_error(y_train_aligned, lasso_model.predict(X_train_aligned))) + p * np.log(n)\n",
    "\n",
    "ridge_model.score(X_train_aligned, y_train_aligned), ridge_aic, ridge_bic, lasso_model.score(X_train_aligned, y_train_aligned), lasso_aic, lasso_bic\n"
   ]
  },
  {
   "cell_type": "markdown",
   "id": "3b676970",
   "metadata": {},
   "source": [
    "## Visualizing Correlation Matrix and Pair Plots"
   ]
  },
  {
   "cell_type": "code",
   "execution_count": null,
   "id": "18af2da2",
   "metadata": {},
   "outputs": [],
   "source": [
    "\n",
    "# Correlation heatmap to visualize relationships\n",
    "plt.figure(figsize=(10,8))\n",
    "sns.heatmap(df_encoded.corr(), annot=True, cmap='coolwarm', fmt='.2f')\n",
    "plt.title('Correlation Matrix of Features')\n",
    "plt.show()\n",
    "\n",
    "# Pairplot to visualize pairwise relationships between variables\n",
    "sns.pairplot(df_encoded[['Price', 'Age_08_04', 'KM', 'HP', 'cc', 'Weight']])\n",
    "plt.show()\n"
   ]
  },
  {
   "cell_type": "markdown",
   "id": "10febf3d",
   "metadata": {},
   "source": [
    "## Regression Model Residual Plot"
   ]
  },
  {
   "cell_type": "code",
   "execution_count": null,
   "id": "eea05bbf",
   "metadata": {},
   "outputs": [],
   "source": [
    "\n",
    "# Residual plot to check model performance\n",
    "plt.figure(figsize=(10,6))\n",
    "sns.residplot(x=model.predict(X_train_aligned), y=y_train_aligned, lowess=True, line_kws={'color': 'red'})\n",
    "plt.title('Residual Plot')\n",
    "plt.xlabel('Fitted Values')\n",
    "plt.ylabel('Residuals')\n",
    "plt.show()\n"
   ]
  },
  {
   "cell_type": "markdown",
   "id": "26dea564",
   "metadata": {},
   "source": [
    "## Ridge and Lasso Regression Coefficient Plot"
   ]
  },
  {
   "cell_type": "code",
   "execution_count": null,
   "id": "8413a271",
   "metadata": {},
   "outputs": [],
   "source": [
    "\n",
    "# Coefficients from Ridge and Lasso models\n",
    "ridge_coefficients = ridge_model.coef_\n",
    "lasso_coefficients = lasso_model.coef_\n",
    "\n",
    "# Plotting the coefficients\n",
    "plt.figure(figsize=(10,6))\n",
    "plt.plot(ridge_coefficients, label='Ridge Coefficients', marker='o')\n",
    "plt.plot(lasso_coefficients, label='Lasso Coefficients', marker='x')\n",
    "plt.axhline(0, color='gray', linestyle='--')\n",
    "plt.title('Ridge and Lasso Coefficients')\n",
    "plt.legend()\n",
    "plt.show()\n"
   ]
  }
 ],
 "metadata": {
  "kernelspec": {
   "display_name": "Python 3 (ipykernel)",
   "language": "python",
   "name": "python3"
  },
  "language_info": {
   "codemirror_mode": {
    "name": "ipython",
    "version": 3
   },
   "file_extension": ".py",
   "mimetype": "text/x-python",
   "name": "python",
   "nbconvert_exporter": "python",
   "pygments_lexer": "ipython3",
   "version": "3.11.3"
  }
 },
 "nbformat": 4,
 "nbformat_minor": 5
}
