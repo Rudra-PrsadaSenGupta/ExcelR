{
 "cells": [
  {
   "cell_type": "markdown",
   "id": "92a10561",
   "metadata": {},
   "source": [
    "# Titanic Survival Prediction using LightGBM and XGBoost (with LightGBM Tuning)"
   ]
  },
  {
   "cell_type": "markdown",
   "id": "a14ea6de",
   "metadata": {},
   "source": [
    "### Step 1: Load Dataset and Perform Exploratory Data Analysis (EDA)"
   ]
  },
  {
   "cell_type": "code",
   "execution_count": null,
   "id": "b76b85d8",
   "metadata": {},
   "outputs": [],
   "source": [
    "\n",
    "import pandas as pd\n",
    "import numpy as np\n",
    "import matplotlib.pyplot as plt\n",
    "import seaborn as sns\n",
    "\n",
    "# Load Titanic train and test datasets\n",
    "train_data = pd.read_csv('/mnt/data/Titanic_train.csv')\n",
    "test_data = pd.read_csv('/mnt/data/Titanic_test.csv')\n",
    "\n",
    "# Display the first few rows of the training dataset\n",
    "train_data.head()\n",
    "\n",
    "# Check for missing values in the dataset\n",
    "missing_values = train_data.isnull().sum()\n",
    "print('Missing values in training data:')\n",
    "print(missing_values)\n",
    "\n",
    "# Display basic statistics of the dataset\n",
    "train_data.describe()\n",
    "    "
   ]
  },
  {
   "cell_type": "markdown",
   "id": "0b0ade5a",
   "metadata": {},
   "source": [
    "### Step 2: Data Preprocessing"
   ]
  },
  {
   "cell_type": "code",
   "execution_count": null,
   "id": "cd80fef0",
   "metadata": {},
   "outputs": [],
   "source": [
    "\n",
    "# Impute missing values in the Age column with the median\n",
    "train_data['Age'] = train_data['Age'].fillna(train_data['Age'].median())\n",
    "\n",
    "# Impute missing values in Embarked column with the most common value (mode)\n",
    "train_data['Embarked'] = train_data['Embarked'].fillna(train_data['Embarked'].mode()[0])\n",
    "\n",
    "# Encode categorical variables (Sex and Embarked) using one-hot encoding\n",
    "train_data = pd.get_dummies(train_data, columns=['Sex', 'Embarked'], drop_first=True)\n",
    "\n",
    "# Drop unnecessary columns (PassengerId, Name, Ticket, Cabin)\n",
    "train_data = train_data.drop(columns=['PassengerId', 'Name', 'Ticket', 'Cabin'])\n",
    "\n",
    "# Separate features (X) and target (y)\n",
    "X = train_data.drop('Survived', axis=1)\n",
    "y = train_data['Survived']\n",
    "\n",
    "# Display the preprocessed data\n",
    "X.head()\n",
    "    "
   ]
  },
  {
   "cell_type": "markdown",
   "id": "7f0410e9",
   "metadata": {},
   "source": [
    "### Step 3: Building Predictive Models (LightGBM and XGBoost with Tuning)"
   ]
  },
  {
   "cell_type": "code",
   "execution_count": null,
   "id": "1e9a3132",
   "metadata": {},
   "outputs": [],
   "source": [
    "\n",
    "from sklearn.model_selection import train_test_split\n",
    "from sklearn.metrics import accuracy_score, precision_score, recall_score, f1_score, roc_auc_score\n",
    "import lightgbm as lgb\n",
    "import xgboost as xgb\n",
    "\n",
    "# Split the dataset into training and testing sets\n",
    "X_train, X_val, y_train, y_val = train_test_split(X, y, test_size=0.2, random_state=42)\n",
    "\n",
    "# Tuned LightGBM Model with adjusted parameters\n",
    "lgbm = lgb.LGBMClassifier(random_state=42, min_child_samples=20, max_depth=6, lambda_l1=0.1, lambda_l2=0.1)\n",
    "lgbm.fit(X_train, y_train)\n",
    "y_pred_lgbm = lgbm.predict(X_val)\n",
    "\n",
    "# XGBoost Model\n",
    "xgbm = xgb.XGBClassifier(random_state=42, use_label_encoder=False, eval_metric='logloss')\n",
    "xgbm.fit(X_train, y_train)\n",
    "y_pred_xgbm = xgbm.predict(X_val)\n",
    "\n",
    "# Evaluate models using various metrics\n",
    "def evaluate_model(y_true, y_pred, model_name):\n",
    "    accuracy = accuracy_score(y_true, y_pred)\n",
    "    precision = precision_score(y_true, y_pred)\n",
    "    recall = recall_score(y_true, y_pred)\n",
    "    f1 = f1_score(y_true, y_pred)\n",
    "    roc_auc = roc_auc_score(y_true, y_pred)\n",
    "    print(f\"Evaluation Metrics for {model_name}:\")\n",
    "    print(f\"Accuracy: {accuracy:.4f}\")\n",
    "    print(f\"Precision: {precision:.4f}\")\n",
    "    print(f\"Recall: {recall:.4f}\")\n",
    "    print(f\"F1-Score: {f1:.4f}\")\n",
    "    print(f\"ROC-AUC: {roc_auc:.4f}\")\n",
    "\n",
    "# Evaluate LightGBM\n",
    "evaluate_model(y_val, y_pred_lgbm, \"Tuned LightGBM\")\n",
    "\n",
    "# Evaluate XGBoost\n",
    "evaluate_model(y_val, y_pred_xgbm, \"XGBoost\")\n",
    "    "
   ]
  }
 ],
 "metadata": {},
 "nbformat": 4,
 "nbformat_minor": 5
}
