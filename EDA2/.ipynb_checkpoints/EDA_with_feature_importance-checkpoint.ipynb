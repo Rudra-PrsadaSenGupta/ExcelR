{
 "cells": [
  {
   "cell_type": "markdown",
   "id": "5025bb7c",
   "metadata": {},
   "source": [
    "# Data Preprocessing and Feature Engineering"
   ]
  },
  {
   "cell_type": "code",
   "execution_count": null,
   "id": "f7c691b8",
   "metadata": {},
   "outputs": [],
   "source": [
    "\n",
    "import pandas as pd\n",
    "from sklearn.preprocessing import StandardScaler, MinMaxScaler, OneHotEncoder, LabelEncoder\n",
    "from sklearn.ensemble import IsolationForest, RandomForestClassifier\n",
    "from sklearn.model_selection import train_test_split\n",
    "import matplotlib.pyplot as plt\n",
    "import seaborn as sns\n",
    "import numpy as np\n",
    "\n",
    "# Load dataset\n",
    "data = pd.read_csv('/mnt/data/adult_with_headers.csv')\n",
    "data.head()\n",
    "    "
   ]
  },
  {
   "cell_type": "markdown",
   "id": "ca10c852",
   "metadata": {},
   "source": [
    "## Summary Statistics"
   ]
  },
  {
   "cell_type": "code",
   "execution_count": null,
   "id": "80268e16",
   "metadata": {},
   "outputs": [],
   "source": [
    "data.describe()"
   ]
  },
  {
   "cell_type": "markdown",
   "id": "ad435a71",
   "metadata": {},
   "source": [
    "## Missing Values"
   ]
  },
  {
   "cell_type": "code",
   "execution_count": null,
   "id": "b0d470c7",
   "metadata": {},
   "outputs": [],
   "source": [
    "data.isnull().sum()"
   ]
  },
  {
   "cell_type": "markdown",
   "id": "6ac6d89d",
   "metadata": {},
   "source": [
    "## Scaling the Data"
   ]
  },
  {
   "cell_type": "code",
   "execution_count": null,
   "id": "5617b1d6",
   "metadata": {},
   "outputs": [],
   "source": [
    "\n",
    "scaler_standard = StandardScaler()\n",
    "scaler_minmax = MinMaxScaler()\n",
    "\n",
    "numeric_columns = data.select_dtypes(include=['float64', 'int64']).columns\n",
    "\n",
    "standard_scaled_data = pd.DataFrame(scaler_standard.fit_transform(data[numeric_columns]), columns=numeric_columns)\n",
    "minmax_scaled_data = pd.DataFrame(scaler_minmax.fit_transform(data[numeric_columns]), columns=numeric_columns)\n",
    "\n",
    "standard_scaled_data.head()\n",
    "    "
   ]
  },
  {
   "cell_type": "markdown",
   "id": "d5990385",
   "metadata": {},
   "source": [
    "## Encoding Categorical Data"
   ]
  },
  {
   "cell_type": "code",
   "execution_count": null,
   "id": "d6ef3224",
   "metadata": {},
   "outputs": [],
   "source": [
    "\n",
    "categorical_columns = data.select_dtypes(include=['object']).columns\n",
    "one_hot_encoder = OneHotEncoder(sparse=False)\n",
    "label_encoder = LabelEncoder()\n",
    "\n",
    "encoded_data = data.copy()\n",
    "\n",
    "for col in categorical_columns:\n",
    "    if data[col].nunique() < 5:\n",
    "        one_hot_encoded = pd.get_dummies(data[col], prefix=col)\n",
    "        encoded_data = pd.concat([encoded_data, one_hot_encoded], axis=1).drop(columns=col)\n",
    "    else:\n",
    "        encoded_data[col] = label_encoder.fit_transform(data[col])\n",
    "        \n",
    "encoded_data.head()\n",
    "    "
   ]
  },
  {
   "cell_type": "markdown",
   "id": "8ebde336",
   "metadata": {},
   "source": [
    "## Feature Engineering"
   ]
  },
  {
   "cell_type": "code",
   "execution_count": null,
   "id": "65fdbd69",
   "metadata": {},
   "outputs": [],
   "source": [
    "\n",
    "# Feature engineering with bins for 'hours_per_week'\n",
    "encoded_data['age_bins'] = pd.cut(encoded_data['age'], bins=[0, 25, 50, 75, 100], labels=['Young', 'Middle-aged', 'Senior', 'Old'])\n",
    "encoded_data['hours_per_week_bins'] = pd.cut(encoded_data['hours_per_week'], bins=[0, 20, 40, 60, 100], labels=['Low', 'Medium', 'High', 'Very High'])\n",
    "encoded_data.head()\n",
    "    "
   ]
  },
  {
   "cell_type": "markdown",
   "id": "e1353d70",
   "metadata": {},
   "source": [
    "## Outlier Detection with Isolation Forest"
   ]
  },
  {
   "cell_type": "code",
   "execution_count": null,
   "id": "05b786fc",
   "metadata": {},
   "outputs": [],
   "source": [
    "\n",
    "iso_forest = IsolationForest(contamination=0.1)\n",
    "outliers = iso_forest.fit_predict(data[numeric_columns])\n",
    "encoded_data['outlier'] = outliers\n",
    "encoded_data.head()\n",
    "    "
   ]
  },
  {
   "cell_type": "markdown",
   "id": "92bb85b6",
   "metadata": {},
   "source": [
    "## Feature Importance Visualization"
   ]
  },
  {
   "cell_type": "code",
   "execution_count": null,
   "id": "431d8576",
   "metadata": {},
   "outputs": [],
   "source": [
    "\n",
    "# Ensuring that categorical features are properly encoded for model training\n",
    "encoded_data['age_bins'] = label_encoder.fit_transform(encoded_data['age_bins'].astype(str))\n",
    "encoded_data['hours_per_week_bins'] = label_encoder.fit_transform(encoded_data['hours_per_week_bins'].astype(str))\n",
    "\n",
    "# Dropping unnecessary columns and preparing data for classification\n",
    "X = encoded_data.drop(columns=['outlier', 'income'], errors='ignore')\n",
    "y = data['income']\n",
    "\n",
    "# Splitting data into training and test sets\n",
    "X_train, X_test, y_train, y_test = train_test_split(X, y, test_size=0.3, random_state=42)\n",
    "\n",
    "# Training a Random Forest Classifier\n",
    "rf_model = RandomForestClassifier(random_state=42)\n",
    "rf_model.fit(X_train, y_train)\n",
    "\n",
    "# Getting feature importances\n",
    "feature_importances = rf_model.feature_importances_\n",
    "features = X.columns\n",
    "\n",
    "# Creating a DataFrame for feature importances\n",
    "feature_importance_df = pd.DataFrame({'Feature': features, 'Importance': feature_importances}).sort_values(by='Importance', ascending=False)\n",
    "\n",
    "# Visualizing feature importance\n",
    "plt.figure(figsize=(12, 8))\n",
    "sns.barplot(x='Importance', y='Feature', data=feature_importance_df)\n",
    "plt.title('Feature Importance from Random Forest Classifier')\n",
    "plt.show()\n",
    "    "
   ]
  }
 ],
 "metadata": {},
 "nbformat": 4,
 "nbformat_minor": 5
}
