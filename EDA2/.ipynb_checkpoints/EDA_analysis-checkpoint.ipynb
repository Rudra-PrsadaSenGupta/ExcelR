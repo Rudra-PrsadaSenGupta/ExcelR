{
 "cells": [
  {
   "cell_type": "markdown",
   "id": "4a472f39",
   "metadata": {},
   "source": [
    "# Data Preprocessing and Feature Engineering"
   ]
  },
  {
   "cell_type": "code",
   "execution_count": null,
   "id": "f42e4d72",
   "metadata": {},
   "outputs": [],
   "source": [
    "# Load dataset\n",
    "import pandas as pd\n",
    "data = pd.read_csv('/mnt/data/adult_with_headers.csv')\n",
    "data.head()"
   ]
  },
  {
   "cell_type": "markdown",
   "id": "baf33404",
   "metadata": {},
   "source": [
    "## Summary Statistics"
   ]
  },
  {
   "cell_type": "code",
   "execution_count": null,
   "id": "d41c8349",
   "metadata": {},
   "outputs": [],
   "source": [
    "data.describe()"
   ]
  },
  {
   "cell_type": "markdown",
   "id": "f9674546",
   "metadata": {},
   "source": [
    "## Missing Values"
   ]
  },
  {
   "cell_type": "code",
   "execution_count": null,
   "id": "3071cded",
   "metadata": {},
   "outputs": [],
   "source": [
    "data.isnull().sum()"
   ]
  },
  {
   "cell_type": "markdown",
   "id": "de5e48fa",
   "metadata": {},
   "source": [
    "## Scaling the Data"
   ]
  },
  {
   "cell_type": "code",
   "execution_count": null,
   "id": "d524be72",
   "metadata": {},
   "outputs": [],
   "source": [
    "\n",
    "from sklearn.preprocessing import StandardScaler, MinMaxScaler\n",
    "scaler_standard = StandardScaler()\n",
    "scaler_minmax = MinMaxScaler()\n",
    "\n",
    "numeric_columns = data.select_dtypes(include=['float64', 'int64']).columns\n",
    "\n",
    "standard_scaled_data = pd.DataFrame(scaler_standard.fit_transform(data[numeric_columns]), columns=numeric_columns)\n",
    "minmax_scaled_data = pd.DataFrame(scaler_minmax.fit_transform(data[numeric_columns]), columns=numeric_columns)\n",
    "\n",
    "standard_scaled_data.head()"
   ]
  },
  {
   "cell_type": "markdown",
   "id": "0a1f3918",
   "metadata": {},
   "source": [
    "## Encoding Categorical Data"
   ]
  },
  {
   "cell_type": "code",
   "execution_count": null,
   "id": "6456abe6",
   "metadata": {},
   "outputs": [],
   "source": [
    "\n",
    "from sklearn.preprocessing import OneHotEncoder, LabelEncoder\n",
    "\n",
    "categorical_columns = data.select_dtypes(include=['object']).columns\n",
    "one_hot_encoder = OneHotEncoder(sparse=False)\n",
    "label_encoder = LabelEncoder()\n",
    "\n",
    "encoded_data = data.copy()\n",
    "\n",
    "for col in categorical_columns:\n",
    "    if data[col].nunique() < 5:\n",
    "        one_hot_encoded = pd.get_dummies(data[col], prefix=col)\n",
    "        encoded_data = pd.concat([encoded_data, one_hot_encoded], axis=1).drop(columns=col)\n",
    "    else:\n",
    "        encoded_data[col] = label_encoder.fit_transform(data[col])\n",
    "        \n",
    "encoded_data.head()"
   ]
  },
  {
   "cell_type": "markdown",
   "id": "23846f16",
   "metadata": {},
   "source": [
    "## Feature Engineering"
   ]
  },
  {
   "cell_type": "code",
   "execution_count": null,
   "id": "bb40077a",
   "metadata": {},
   "outputs": [],
   "source": [
    "\n",
    "# Feature engineering with bins for 'hours_per_week'\n",
    "encoded_data['age_bins'] = pd.cut(encoded_data['age'], bins=[0, 25, 50, 75, 100], labels=['Young', 'Middle-aged', 'Senior', 'Old'])\n",
    "encoded_data['hours_per_week_bins'] = pd.cut(encoded_data['hours_per_week'], bins=[0, 20, 40, 60, 100], labels=['Low', 'Medium', 'High', 'Very High'])\n",
    "encoded_data.head()"
   ]
  },
  {
   "cell_type": "markdown",
   "id": "c52acbb0",
   "metadata": {},
   "source": [
    "## Outlier Detection with Isolation Forest"
   ]
  },
  {
   "cell_type": "code",
   "execution_count": null,
   "id": "6bfcf055",
   "metadata": {},
   "outputs": [],
   "source": [
    "\n",
    "from sklearn.ensemble import IsolationForest\n",
    "iso_forest = IsolationForest(contamination=0.1)\n",
    "outliers = iso_forest.fit_predict(data[numeric_columns])\n",
    "encoded_data['outlier'] = outliers\n",
    "encoded_data.head()"
   ]
  }
 ],
 "metadata": {},
 "nbformat": 4,
 "nbformat_minor": 5
}
