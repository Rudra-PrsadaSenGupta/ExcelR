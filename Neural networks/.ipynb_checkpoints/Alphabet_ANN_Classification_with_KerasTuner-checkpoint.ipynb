{
 "cells": [
  {
   "cell_type": "markdown",
   "id": "ab67148e",
   "metadata": {},
   "source": [
    "# Alphabet Classification using Artificial Neural Networks (ANN) with Sci-Keras\n",
    "This notebook uses Sci-Keras instead of the deprecated KerasClassifier to build and optimize the model."
   ]
  },
  {
   "cell_type": "markdown",
   "id": "9697b3f7",
   "metadata": {},
   "source": [
    "## Step 1: Data Exploration and Preprocessing"
   ]
  },
  {
   "cell_type": "code",
   "execution_count": null,
   "id": "3593fc67",
   "metadata": {},
   "outputs": [],
   "source": [
    "# Import necessary libraries\n",
    "import pandas as pd\n",
    "import matplotlib.pyplot as plt\n",
    "import seaborn as sns\n",
    "from sklearn.model_selection import train_test_split\n",
    "from sklearn.preprocessing import LabelEncoder, StandardScaler\n",
    "\n",
    "# Load the dataset\n",
    "data = pd.read_csv('Alphabets_data.csv')\n",
    "\n",
    "# Display the first few rows\n",
    "data.head()"
   ]
  },
  {
   "cell_type": "code",
   "execution_count": null,
   "id": "db493a32",
   "metadata": {},
   "outputs": [],
   "source": [
    "# Summarize the dataset\n",
    "print(\"Number of samples:\", data.shape[0])\n",
    "print(\"Number of features:\", data.shape[1])\n",
    "print(\"Class distribution:\")\n",
    "print(data['letter'].value_counts())"
   ]
  },
  {
   "cell_type": "markdown",
   "id": "3fbbdc87",
   "metadata": {},
   "source": [
    "### Data Preprocessing\n",
    "- Convert categorical labels to numerical values.\n",
    "- Normalize the feature columns.\n",
    "- Split the dataset into training and test sets."
   ]
  },
  {
   "cell_type": "code",
   "execution_count": null,
   "id": "88151d50",
   "metadata": {},
   "outputs": [],
   "source": [
    "# Preprocessing the data\n",
    "label_encoder = LabelEncoder()\n",
    "data['letter'] = label_encoder.fit_transform(data['letter'])\n",
    "\n",
    "# Separate features and labels\n",
    "X = data.drop(columns=['letter'])\n",
    "y = data['letter']\n",
    "\n",
    "# Normalize the features\n",
    "scaler = StandardScaler()\n",
    "X_scaled = scaler.fit_transform(X)\n",
    "\n",
    "# Split the dataset into training and test sets\n",
    "X_train, X_test, y_train, y_test = train_test_split(X_scaled, y, test_size=0.2, random_state=42)\n"
   ]
  },
  {
   "cell_type": "markdown",
   "id": "1f06bb7f",
   "metadata": {},
   "source": [
    "## Step 2: ANN Model Implementation"
   ]
  },
  {
   "cell_type": "code",
   "execution_count": null,
   "id": "0f4882ed",
   "metadata": {},
   "outputs": [],
   "source": [
    "# Import necessary libraries for ANN\n",
    "import tensorflow as tf\n",
    "from tensorflow.keras.models import Sequential\n",
    "from tensorflow.keras.layers import Dense\n",
    "\n",
    "# Build a basic ANN model with one hidden layer\n",
    "model = Sequential([\n",
    "    Dense(64, input_shape=(X_train.shape[1],), activation='relu'),\n",
    "    Dense(32, activation='relu'),\n",
    "    Dense(len(label_encoder.classes_), activation='softmax')  # Multi-class classification\n",
    "])\n",
    "\n",
    "# Compile the model\n",
    "model.compile(optimizer='adam', loss='sparse_categorical_crossentropy', metrics=['accuracy'])\n",
    "\n",
    "# Train the model\n",
    "history = model.fit(X_train, y_train, epochs=20, validation_data=(X_test, y_test))"
   ]
  },
  {
   "cell_type": "markdown",
   "id": "c33848cc",
   "metadata": {},
   "source": [
    "## Step 3: Model Evaluation"
   ]
  },
  {
   "cell_type": "code",
   "execution_count": null,
   "id": "213ba30d",
   "metadata": {},
   "outputs": [],
   "source": [
    "# Evaluate the model on the test set\n",
    "test_loss, test_accuracy = model.evaluate(X_test, y_test)\n",
    "print(f\"Test Accuracy: {test_accuracy * 100:.2f}%\")\n",
    "\n",
    "# Generate classification report\n",
    "from sklearn.metrics import classification_report\n",
    "y_pred = model.predict(X_test).argmax(axis=1)\n",
    "print(classification_report(y_test, y_pred, target_names=label_encoder.classes_))"
   ]
  },
  {
   "cell_type": "markdown",
   "id": "3f485d55",
   "metadata": {},
   "source": [
    "## Step 4: Hyperparameter Tuning using Sci-Keras\n",
    "We will tune the following hyperparameters:\n",
    "- Number of hidden layers and neurons\n",
    "- Activation functions\n",
    "- Learning rate"
   ]
  },
  {
   "cell_type": "code",
   "execution_count": null,
   "id": "1b78ada0",
   "metadata": {},
   "outputs": [],
   "source": [
    "# Import necessary libraries for hyperparameter tuning using Sci-Keras\n",
    "from scikeras.wrappers import KerasClassifier\n",
    "from sklearn.model_selection import GridSearchCV\n",
    "\n",
    "# Define the function for creating the ANN model\n",
    "def create_model(activation='relu', optimizer='adam'):\n",
    "    model = Sequential([\n",
    "        Dense(64, input_shape=(X_train.shape[1],), activation=activation),\n",
    "        Dense(32, activation=activation),\n",
    "        Dense(len(label_encoder.classes_), activation='softmax')\n",
    "    ])\n",
    "    model.compile(optimizer=optimizer, loss='sparse_categorical_crossentropy', metrics=['accuracy'])\n",
    "    return model\n",
    "\n",
    "# Wrap the model using Sci-Keras' KerasClassifier\n",
    "model = KerasClassifier(model=create_model, verbose=0)\n",
    "\n",
    "# Define the grid of hyperparameters to search\n",
    "param_grid = {\n",
    "    'model__activation': ['relu', 'tanh'],\n",
    "    'optimizer': ['adam', 'rmsprop'],\n",
    "    'epochs': [10, 20],\n",
    "    'batch_size': [10, 20]\n",
    "}\n",
    "\n",
    "# Grid search using Sci-Keras\n",
    "grid = GridSearchCV(estimator=model, param_grid=param_grid, cv=3)\n",
    "grid_result = grid.fit(X_train, y_train)\n",
    "\n",
    "# Print the best hyperparameters and performance\n",
    "print(f\"Best: {grid_result.best_score_} using {grid_result.best_params_}\")"
   ]
  },
  {
   "cell_type": "markdown",
   "id": "f691a176",
   "metadata": {},
   "source": [
    "## Additional Visualizations and Explanation\n",
    "We will now visualize the class distribution and the model's performance over time."
   ]
  },
  {
   "cell_type": "code",
   "execution_count": null,
   "id": "b5539794",
   "metadata": {},
   "outputs": [],
   "source": [
    "# Plot the distribution of the classes (letters)\n",
    "plt.figure(figsize=(10,6))\n",
    "sns.countplot(x=data['letter'], palette='Set2')\n",
    "plt.title('Distribution of Alphabets in the Dataset')\n",
    "plt.ylabel('Count')\n",
    "plt.xlabel('Alphabet Class (Encoded)')\n",
    "plt.show()\n",
    "\n",
    "# Plot the training and validation accuracy over epochs\n",
    "plt.figure(figsize=(10,6))\n",
    "plt.plot(history.history['accuracy'], label='Training Accuracy')\n",
    "plt.plot(history.history['val_accuracy'], label='Validation Accuracy')\n",
    "plt.title('Training and Validation Accuracy')\n",
    "plt.ylabel('Accuracy')\n",
    "plt.xlabel('Epoch')\n",
    "plt.legend()\n",
    "plt.show()\n",
    "\n",
    "# Plot the training and validation loss over epochs\n",
    "plt.figure(figsize=(10,6))\n",
    "plt.plot(history.history['loss'], label='Training Loss')\n",
    "plt.plot(history.history['val_loss'], label='Validation Loss')\n",
    "plt.title('Training and Validation Loss')\n",
    "plt.ylabel('Loss')\n",
    "plt.xlabel('Epoch')\n",
    "plt.legend()\n",
    "plt.show()"
   ]
  },
  {
   "cell_type": "markdown",
   "id": "8da8a83e",
   "metadata": {},
   "source": [
    "## Step 4: Hyperparameter Tuning using Keras Tuner\n",
    "We will use Keras Tuner to tune the following hyperparameters:\n",
    "- Number of hidden layers and neurons\n",
    "- Activation functions\n",
    "- Learning rate"
   ]
  },
  {
   "cell_type": "code",
   "execution_count": null,
   "id": "c06a7de5",
   "metadata": {},
   "outputs": [],
   "source": [
    "# Import Keras Tuner\n",
    "import keras_tuner as kt\n",
    "from tensorflow.keras.optimizers import Adam\n",
    "\n",
    "# Define the function for creating the ANN model\n",
    "def build_model(hp):\n",
    "    model = Sequential()\n",
    "    \n",
    "    # Tune the number of units in the first Dense layer\n",
    "    hp_units = hp.Int('units', min_value=32, max_value=512, step=32)\n",
    "    model.add(Dense(units=hp_units, activation='relu', input_shape=(X_train.shape[1],)))\n",
    "    \n",
    "    # Add a second hidden layer\n",
    "    model.add(Dense(units=hp_units, activation='relu'))\n",
    "    \n",
    "    # Output layer\n",
    "    model.add(Dense(len(label_encoder.classes_), activation='softmax'))\n",
    "    \n",
    "    # Tune the learning rate for Adam optimizer\n",
    "    hp_learning_rate = hp.Choice('learning_rate', values=[1e-2, 1e-3, 1e-4])\n",
    "    \n",
    "    model.compile(optimizer=Adam(learning_rate=hp_learning_rate),\n",
    "                  loss='sparse_categorical_crossentropy',\n",
    "                  metrics=['accuracy'])\n",
    "    \n",
    "    return model\n",
    "\n",
    "# Initialize the Keras Tuner\n",
    "tuner = kt.Hyperband(build_model,\n",
    "                     objective='val_accuracy',\n",
    "                     max_epochs=10,\n",
    "                     factor=3,\n",
    "                     directory='my_dir',\n",
    "                     project_name='ANN_Tuner')\n",
    "\n",
    "# Search for the best hyperparameters\n",
    "tuner.search(X_train, y_train, epochs=10, validation_data=(X_test, y_test))\n",
    "\n",
    "# Get the optimal hyperparameters\n",
    "best_hps = tuner.get_best_hyperparameters(num_trials=1)[0]\n",
    "\n",
    "print(f\"Best number of units: {best_hps.get('units')}\")\n",
    "print(f\"Best learning rate: {best_hps.get('learning_rate')}\")"
   ]
  }
 ],
 "metadata": {},
 "nbformat": 4,
 "nbformat_minor": 5
}
