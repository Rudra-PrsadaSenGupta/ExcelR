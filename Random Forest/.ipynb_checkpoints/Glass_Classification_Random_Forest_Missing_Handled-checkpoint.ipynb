{
 "cells": [
  {
   "cell_type": "markdown",
   "id": "b22dd7db",
   "metadata": {},
   "source": [
    "# Glass Classification using Random Forest Classifier with Missing Value Handling"
   ]
  },
  {
   "cell_type": "code",
   "execution_count": null,
   "id": "3835ecc1",
   "metadata": {},
   "outputs": [],
   "source": [
    "\n",
    "import pandas as pd\n",
    "import numpy as np\n",
    "import matplotlib.pyplot as plt\n",
    "import seaborn as sns\n",
    "from sklearn.model_selection import train_test_split\n",
    "from sklearn.ensemble import RandomForestClassifier\n",
    "from sklearn.metrics import accuracy_score, precision_score, recall_score, f1_score, classification_report\n",
    "from sklearn.preprocessing import StandardScaler\n",
    "\n",
    "# Load dataset\n",
    "data = pd.read_csv('/mnt/data/glass.csv')\n",
    "\n",
    "# Display first few rows of the dataset\n",
    "data.head()\n",
    "    "
   ]
  },
  {
   "cell_type": "markdown",
   "id": "48bebc72",
   "metadata": {},
   "source": [
    "\n",
    "### Handling Missing Values:\n",
    "We will check and handle any missing values in the dataset, particularly in the target column `Type`.\n",
    "    "
   ]
  },
  {
   "cell_type": "code",
   "execution_count": null,
   "id": "21da83b5",
   "metadata": {},
   "outputs": [],
   "source": [
    "\n",
    "# Checking for missing values\n",
    "missing_values = data.isnull().sum()\n",
    "print(\"Missing values in each column:\")\n",
    "print(missing_values)\n",
    "\n",
    "# Drop rows with missing values in the target column 'Type'\n",
    "data = data.dropna(subset=['Type'])\n",
    "\n",
    "# Confirm no more missing values in the target column\n",
    "print(\"Missing values after handling:\")\n",
    "print(data.isnull().sum())\n",
    "    "
   ]
  },
  {
   "cell_type": "markdown",
   "id": "d92d0230",
   "metadata": {},
   "source": [
    "\n",
    "### Exploratory Data Analysis (EDA) and Feature Engineering\n",
    "We will visualize the distributions of numeric features, check for outliers, and apply feature scaling.\n",
    "    "
   ]
  },
  {
   "cell_type": "code",
   "execution_count": null,
   "id": "e090a343",
   "metadata": {},
   "outputs": [],
   "source": [
    "\n",
    "# 1. Plot histograms for numerical columns\n",
    "data.hist(bins=15, figsize=(12, 10))\n",
    "plt.suptitle('Distribution of Numeric Features')\n",
    "plt.show()\n",
    "\n",
    "# 2. Boxplot for 'RI', 'Na', 'Mg', 'AI', and other features (outlier detection)\n",
    "plt.figure(figsize=(12, 6))\n",
    "sns.boxplot(x=data['RI'])\n",
    "plt.title('Boxplot of Refractive Index (RI)')\n",
    "plt.show()\n",
    "\n",
    "plt.figure(figsize=(12, 6))\n",
    "sns.boxplot(x=data['Na'])\n",
    "plt.title('Boxplot of Sodium (Na)')\n",
    "plt.show()\n",
    "\n",
    "# 3. Correlation matrix\n",
    "plt.figure(figsize=(10, 8))\n",
    "correlation_matrix = data.corr()\n",
    "sns.heatmap(correlation_matrix, annot=True, cmap='coolwarm')\n",
    "plt.title('Correlation Matrix')\n",
    "plt.show()\n",
    "\n",
    "# Feature Scaling (Standardization)\n",
    "scaler = StandardScaler()\n",
    "scaled_features = scaler.fit_transform(data.drop('Type', axis=1))\n",
    "\n",
    "# Create a new DataFrame for the scaled features\n",
    "scaled_data = pd.DataFrame(scaled_features, columns=data.columns[:-1])\n",
    "scaled_data['Type'] = data['Type']\n",
    "scaled_data.head()\n",
    "    "
   ]
  },
  {
   "cell_type": "markdown",
   "id": "7d272737",
   "metadata": {},
   "source": [
    "\n",
    "### Random Forest Classifier:\n",
    "We will split the cleaned data into training and testing sets, train a Random Forest classifier, and evaluate its performance.\n",
    "    "
   ]
  },
  {
   "cell_type": "code",
   "execution_count": null,
   "id": "4f34134c",
   "metadata": {},
   "outputs": [],
   "source": [
    "\n",
    "# Splitting data into features (X) and target (y)\n",
    "X = scaled_data.drop('Type', axis=1)\n",
    "y = scaled_data['Type']\n",
    "\n",
    "# Splitting into training and testing sets (80-20 split)\n",
    "X_train, X_test, y_train, y_test = train_test_split(X, y, test_size=0.2, random_state=42)\n",
    "\n",
    "# Train a Random Forest Classifier\n",
    "rf_clf = RandomForestClassifier(random_state=42)\n",
    "rf_clf.fit(X_train, y_train)\n",
    "\n",
    "# Predictions and evaluation\n",
    "y_pred = rf_clf.predict(X_test)\n",
    "accuracy = accuracy_score(y_test, y_pred)\n",
    "precision = precision_score(y_test, y_pred, average='macro')\n",
    "recall = recall_score(y_test, y_pred, average='macro')\n",
    "f1 = f1_score(y_test, y_pred, average='macro')\n",
    "\n",
    "# Output the performance metrics\n",
    "print(f\"Accuracy: {accuracy}\")\n",
    "print(f\"Precision: {precision}\")\n",
    "print(f\"Recall: {recall}\")\n",
    "print(f\"F1-Score: {f1}\")\n",
    "print(classification_report(y_test, y_pred))\n",
    "    "
   ]
  }
 ],
 "metadata": {},
 "nbformat": 4,
 "nbformat_minor": 5
}
