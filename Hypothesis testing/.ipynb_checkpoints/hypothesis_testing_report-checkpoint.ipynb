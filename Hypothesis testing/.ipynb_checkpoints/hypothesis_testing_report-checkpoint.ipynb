{
 "cells": [
  {
   "cell_type": "markdown",
   "id": "3333f4bb",
   "metadata": {},
   "source": [
    "# Hypothesis Testing for Weekly Operating Costs"
   ]
  },
  {
   "cell_type": "markdown",
   "id": "b242a9d5",
   "metadata": {},
   "source": [
    "### Hypotheses"
   ]
  },
  {
   "cell_type": "code",
   "execution_count": 3,
   "id": "75692292",
   "metadata": {},
   "outputs": [
    {
     "data": {
      "text/plain": [
       "('The weekly operating costs follow the model W = 1000 + 5X.',\n",
       " 'The weekly operating costs are higher than the model suggests.')"
      ]
     },
     "execution_count": 3,
     "metadata": {},
     "output_type": "execute_result"
    }
   ],
   "source": [
    "\n",
    "# Hypotheses\n",
    "null_hypothesis = \"The weekly operating costs follow the model W = 1000 + 5X.\"\n",
    "alternate_hypothesis = \"The weekly operating costs are higher than the model suggests.\"\n",
    "null_hypothesis, alternate_hypothesis\n"
   ]
  },
  {
   "cell_type": "markdown",
   "id": "50b03e09",
   "metadata": {},
   "source": [
    "### Test Statistic Calculation"
   ]
  },
  {
   "cell_type": "code",
   "execution_count": 4,
   "id": "9112daf3",
   "metadata": {},
   "outputs": [
    {
     "data": {
      "text/plain": [
       "-38.0"
      ]
     },
     "execution_count": 4,
     "metadata": {},
     "output_type": "execute_result"
    }
   ],
   "source": [
    "import numpy as np\n",
    "# Given data\n",
    "sample_mean = 3050  # mean weekly cost of sample\n",
    "theoretical_mean = 1000 + 5 * 600  # theoretical cost W = 1000 + 5 * X, where X = 600 units\n",
    "sigma = 5 * 25  # standard deviation of population\n",
    "n = 25  # sample size\n",
    "\n",
    "# Test statistic calculation (one-tailed t-test)\n",
    "test_statistic = (sample_mean - theoretical_mean) / (sigma / np.sqrt(n))\n",
    "test_statistic\n"
   ]
  },
  {
   "cell_type": "markdown",
   "id": "98a55d14",
   "metadata": {},
   "source": [
    "### Critical Value and Decision"
   ]
  },
  {
   "cell_type": "code",
   "execution_count": 5,
   "id": "08150ff5",
   "metadata": {},
   "outputs": [
    {
     "data": {
      "text/plain": [
       "(1.6448536269514722, 'Fail to reject the null hypothesis')"
      ]
     },
     "execution_count": 5,
     "metadata": {},
     "output_type": "execute_result"
    }
   ],
   "source": [
    "\n",
    "from scipy import stats\n",
    "\n",
    "# Significance level\n",
    "alpha = 0.05\n",
    "\n",
    "# Critical value from Z-distribution (one-tailed test)\n",
    "critical_value = stats.norm.ppf(1 - alpha)\n",
    "\n",
    "# Decision\n",
    "decision = \"Reject the null hypothesis\" if test_statistic > critical_value else \"Fail to reject the null hypothesis\"\n",
    "critical_value, decision\n"
   ]
  },
  {
   "cell_type": "markdown",
   "id": "1525b963",
   "metadata": {},
   "source": [
    "### Final Report"
   ]
  },
  {
   "cell_type": "code",
   "execution_count": 6,
   "id": "7ba96d5c",
   "metadata": {},
   "outputs": [
    {
     "name": "stdout",
     "output_type": "stream",
     "text": [
      "\n",
      "\n",
      "Hypothesis Testing Results:\n",
      "\n",
      "Hypotheses:\n",
      "- Null Hypothesis: The weekly operating costs follow the model W = 1000 + 5X.\n",
      "- Alternate Hypothesis: The weekly operating costs are higher than the model suggests.\n",
      "\n",
      "Results:\n",
      "- Test Statistic (t): -38.0\n",
      "- Critical Value (Z): 1.6448536269514722\n",
      "- Decision: Fail to reject the null hypothesis\n",
      "\n",
      "\n"
     ]
    }
   ],
   "source": [
    "\n",
    "report = '''\n",
    "\n",
    "Hypothesis Testing Results:\n",
    "\n",
    "Hypotheses:\n",
    "- Null Hypothesis: The weekly operating costs follow the model W = 1000 + 5X.\n",
    "- Alternate Hypothesis: The weekly operating costs are higher than the model suggests.\n",
    "\n",
    "Results:\n",
    "- Test Statistic (t): -38.0\n",
    "- Critical Value (Z): 1.6448536269514722\n",
    "- Decision: Fail to reject the null hypothesis\n",
    "\n",
    "'''\n",
    "print(report)\n"
   ]
  }
 ],
 "metadata": {
  "kernelspec": {
   "display_name": "Python 3 (ipykernel)",
   "language": "python",
   "name": "python3"
  },
  "language_info": {
   "codemirror_mode": {
    "name": "ipython",
    "version": 3
   },
   "file_extension": ".py",
   "mimetype": "text/x-python",
   "name": "python",
   "nbconvert_exporter": "python",
   "pygments_lexer": "ipython3",
   "version": "3.11.3"
  }
 },
 "nbformat": 4,
 "nbformat_minor": 5
}
