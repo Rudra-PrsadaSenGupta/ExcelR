{
 "cells": [
  {
   "cell_type": "markdown",
   "id": "7fc79f10",
   "metadata": {},
   "source": [
    "# Chi-Square Test for Independence"
   ]
  },
  {
   "cell_type": "markdown",
   "id": "cde82274",
   "metadata": {},
   "source": [
    "### Hypotheses"
   ]
  },
  {
   "cell_type": "code",
   "execution_count": 1,
   "id": "60d007cc",
   "metadata": {},
   "outputs": [
    {
     "data": {
      "text/plain": [
       "('There is no significant association between the type of device and customer satisfaction.',\n",
       " 'There is a significant association between the type of device and customer satisfaction.')"
      ]
     },
     "execution_count": 1,
     "metadata": {},
     "output_type": "execute_result"
    }
   ],
   "source": [
    "\n",
    "# Hypotheses\n",
    "null_hypothesis = \"There is no significant association between the type of device and customer satisfaction.\"\n",
    "alternate_hypothesis = \"There is a significant association between the type of device and customer satisfaction.\"\n",
    "null_hypothesis, alternate_hypothesis\n"
   ]
  },
  {
   "cell_type": "markdown",
   "id": "718b23d1",
   "metadata": {},
   "source": [
    "### Contingency Table"
   ]
  },
  {
   "cell_type": "code",
   "execution_count": 2,
   "id": "be2d9853",
   "metadata": {},
   "outputs": [
    {
     "data": {
      "text/html": [
       "<div>\n",
       "<style scoped>\n",
       "    .dataframe tbody tr th:only-of-type {\n",
       "        vertical-align: middle;\n",
       "    }\n",
       "\n",
       "    .dataframe tbody tr th {\n",
       "        vertical-align: top;\n",
       "    }\n",
       "\n",
       "    .dataframe thead th {\n",
       "        text-align: right;\n",
       "    }\n",
       "</style>\n",
       "<table border=\"1\" class=\"dataframe\">\n",
       "  <thead>\n",
       "    <tr style=\"text-align: right;\">\n",
       "      <th></th>\n",
       "      <th>Satisfaction</th>\n",
       "      <th>Smart Thermostat</th>\n",
       "      <th>Smart Light</th>\n",
       "    </tr>\n",
       "  </thead>\n",
       "  <tbody>\n",
       "    <tr>\n",
       "      <th>0</th>\n",
       "      <td>Very Satisfied</td>\n",
       "      <td>50</td>\n",
       "      <td>70</td>\n",
       "    </tr>\n",
       "    <tr>\n",
       "      <th>1</th>\n",
       "      <td>Satisfied</td>\n",
       "      <td>80</td>\n",
       "      <td>100</td>\n",
       "    </tr>\n",
       "    <tr>\n",
       "      <th>2</th>\n",
       "      <td>Neutral</td>\n",
       "      <td>60</td>\n",
       "      <td>90</td>\n",
       "    </tr>\n",
       "    <tr>\n",
       "      <th>3</th>\n",
       "      <td>Unsatisfied</td>\n",
       "      <td>30</td>\n",
       "      <td>50</td>\n",
       "    </tr>\n",
       "    <tr>\n",
       "      <th>4</th>\n",
       "      <td>Very Unsatisfied</td>\n",
       "      <td>20</td>\n",
       "      <td>50</td>\n",
       "    </tr>\n",
       "  </tbody>\n",
       "</table>\n",
       "</div>"
      ],
      "text/plain": [
       "       Satisfaction  Smart Thermostat  Smart Light\n",
       "0    Very Satisfied                50           70\n",
       "1         Satisfied                80          100\n",
       "2           Neutral                60           90\n",
       "3       Unsatisfied                30           50\n",
       "4  Very Unsatisfied                20           50"
      ]
     },
     "execution_count": 2,
     "metadata": {},
     "output_type": "execute_result"
    }
   ],
   "source": [
    "\n",
    "# Data\n",
    "import pandas as pd\n",
    "\n",
    "data = {\n",
    "    \"Satisfaction\": [\"Very Satisfied\", \"Satisfied\", \"Neutral\", \"Unsatisfied\", \"Very Unsatisfied\"],\n",
    "    \"Smart Thermostat\": [50, 80, 60, 30, 20],\n",
    "    \"Smart Light\": [70, 100, 90, 50, 50]\n",
    "}\n",
    "\n",
    "df = pd.DataFrame(data)\n",
    "df\n"
   ]
  },
  {
   "cell_type": "markdown",
   "id": "27c54df8",
   "metadata": {},
   "source": [
    "### Chi-Square Test Calculation"
   ]
  },
  {
   "cell_type": "code",
   "execution_count": 3,
   "id": "8fcbab89",
   "metadata": {},
   "outputs": [
    {
     "data": {
      "text/plain": [
       "(5.638227513227513,\n",
       " 0.22784371130697179,\n",
       " 4,\n",
       " array([[ 48.,  72.],\n",
       "        [ 72., 108.],\n",
       "        [ 60.,  90.],\n",
       "        [ 32.,  48.],\n",
       "        [ 28.,  42.]]))"
      ]
     },
     "execution_count": 3,
     "metadata": {},
     "output_type": "execute_result"
    }
   ],
   "source": [
    "\n",
    "from scipy.stats import chi2_contingency\n",
    "\n",
    "# Contingency table\n",
    "contingency_table = df[[\"Smart Thermostat\", \"Smart Light\"]].values\n",
    "\n",
    "# Perform Chi-Square test\n",
    "chi2, p, dof, expected = chi2_contingency(contingency_table)\n",
    "chi2, p, dof, expected\n"
   ]
  },
  {
   "cell_type": "markdown",
   "id": "5f529fcb",
   "metadata": {},
   "source": [
    "### Critical Value and Decision"
   ]
  },
  {
   "cell_type": "code",
   "execution_count": 4,
   "id": "4678af3a",
   "metadata": {},
   "outputs": [
    {
     "data": {
      "text/plain": [
       "(5.638227513227513, 'Fail to reject the null hypothesis')"
      ]
     },
     "execution_count": 4,
     "metadata": {},
     "output_type": "execute_result"
    }
   ],
   "source": [
    "\n",
    "# Decision\n",
    "alpha = 0.05\n",
    "critical_value = chi2_contingency(contingency_table, correction=False)[0]\n",
    "\n",
    "decision = \"Reject the null hypothesis\" if chi2 > critical_value else \"Fail to reject the null hypothesis\"\n",
    "critical_value, decision\n"
   ]
  },
  {
   "cell_type": "markdown",
   "id": "b2425423",
   "metadata": {},
   "source": [
    "### Final Report"
   ]
  },
  {
   "cell_type": "code",
   "execution_count": 5,
   "id": "7a9cb3ef",
   "metadata": {},
   "outputs": [
    {
     "name": "stdout",
     "output_type": "stream",
     "text": [
      "\n",
      "\n",
      "Chi-Square Test Results:\n",
      "\n",
      "Hypotheses:\n",
      "- Null Hypothesis: There is no significant association between the type of device and customer satisfaction.\n",
      "- Alternate Hypothesis: There is a significant association between the type of device and customer satisfaction.\n",
      "\n",
      "Results:\n",
      "- Chi-Square Statistic: 5.638227513227513\n",
      "- p-value: 0.22784371130697179\n",
      "- Degrees of Freedom: 4\n",
      "- Critical Value: 5.638227513227513\n",
      "- Decision: Fail to reject the null hypothesis\n",
      "\n",
      "\n",
      "\n"
     ]
    }
   ],
   "source": [
    "\n",
    "report = '''\n",
    "\n",
    "Chi-Square Test Results:\n",
    "\n",
    "Hypotheses:\n",
    "- Null Hypothesis: There is no significant association between the type of device and customer satisfaction.\n",
    "- Alternate Hypothesis: There is a significant association between the type of device and customer satisfaction.\n",
    "\n",
    "Results:\n",
    "- Chi-Square Statistic: 5.638227513227513\n",
    "- p-value: 0.22784371130697179\n",
    "- Degrees of Freedom: 4\n",
    "- Critical Value: 5.638227513227513\n",
    "- Decision: Fail to reject the null hypothesis\n",
    "\n",
    "\n",
    "'''\n",
    "print(report)\n"
   ]
  }
 ],
 "metadata": {
  "kernelspec": {
   "display_name": "Python 3 (ipykernel)",
   "language": "python",
   "name": "python3"
  },
  "language_info": {
   "codemirror_mode": {
    "name": "ipython",
    "version": 3
   },
   "file_extension": ".py",
   "mimetype": "text/x-python",
   "name": "python",
   "nbconvert_exporter": "python",
   "pygments_lexer": "ipython3",
   "version": "3.11.3"
  }
 },
 "nbformat": 4,
 "nbformat_minor": 5
}
