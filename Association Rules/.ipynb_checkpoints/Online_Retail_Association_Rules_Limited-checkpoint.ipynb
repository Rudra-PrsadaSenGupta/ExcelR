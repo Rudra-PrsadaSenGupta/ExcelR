{
 "cells": [
  {
   "cell_type": "markdown",
   "id": "81ae811b",
   "metadata": {},
   "source": [
    "# Association Rule Mining and Analysis\n",
    "\n",
    "This notebook demonstrates data preprocessing, rule mining using the Apriori algorithm, and detailed insights into association rules."
   ]
  },
  {
   "cell_type": "markdown",
   "id": "1fed74e5",
   "metadata": {},
   "source": [
    "## Task 1: Data Preprocessing"
   ]
  },
  {
   "cell_type": "code",
   "execution_count": 2,
   "id": "242a13ea",
   "metadata": {},
   "outputs": [
    {
     "ename": "KeyError",
     "evalue": "'Quantity'",
     "output_type": "error",
     "traceback": [
      "\u001b[1;31m---------------------------------------------------------------------------\u001b[0m",
      "\u001b[1;31mKeyError\u001b[0m                                  Traceback (most recent call last)",
      "File \u001b[1;32mC:\\ProgramData\\anaconda3\\Lib\\site-packages\\pandas\\core\\indexes\\base.py:3802\u001b[0m, in \u001b[0;36mIndex.get_loc\u001b[1;34m(self, key, method, tolerance)\u001b[0m\n\u001b[0;32m   3801\u001b[0m \u001b[38;5;28;01mtry\u001b[39;00m:\n\u001b[1;32m-> 3802\u001b[0m     \u001b[38;5;28;01mreturn\u001b[39;00m \u001b[38;5;28mself\u001b[39m\u001b[38;5;241m.\u001b[39m_engine\u001b[38;5;241m.\u001b[39mget_loc(casted_key)\n\u001b[0;32m   3803\u001b[0m \u001b[38;5;28;01mexcept\u001b[39;00m \u001b[38;5;167;01mKeyError\u001b[39;00m \u001b[38;5;28;01mas\u001b[39;00m err:\n",
      "File \u001b[1;32mC:\\ProgramData\\anaconda3\\Lib\\site-packages\\pandas\\_libs\\index.pyx:138\u001b[0m, in \u001b[0;36mpandas._libs.index.IndexEngine.get_loc\u001b[1;34m()\u001b[0m\n",
      "File \u001b[1;32mC:\\ProgramData\\anaconda3\\Lib\\site-packages\\pandas\\_libs\\index.pyx:165\u001b[0m, in \u001b[0;36mpandas._libs.index.IndexEngine.get_loc\u001b[1;34m()\u001b[0m\n",
      "File \u001b[1;32mpandas\\_libs\\hashtable_class_helper.pxi:5745\u001b[0m, in \u001b[0;36mpandas._libs.hashtable.PyObjectHashTable.get_item\u001b[1;34m()\u001b[0m\n",
      "File \u001b[1;32mpandas\\_libs\\hashtable_class_helper.pxi:5753\u001b[0m, in \u001b[0;36mpandas._libs.hashtable.PyObjectHashTable.get_item\u001b[1;34m()\u001b[0m\n",
      "\u001b[1;31mKeyError\u001b[0m: 'Quantity'",
      "\nThe above exception was the direct cause of the following exception:\n",
      "\u001b[1;31mKeyError\u001b[0m                                  Traceback (most recent call last)",
      "Cell \u001b[1;32mIn[2], line 12\u001b[0m\n\u001b[0;32m      9\u001b[0m data\u001b[38;5;241m.\u001b[39mdrop_duplicates(inplace\u001b[38;5;241m=\u001b[39m\u001b[38;5;28;01mTrue\u001b[39;00m)\n\u001b[0;32m     11\u001b[0m \u001b[38;5;66;03m# Remove transactions with negative or zero quantities\u001b[39;00m\n\u001b[1;32m---> 12\u001b[0m data \u001b[38;5;241m=\u001b[39m data[data[\u001b[38;5;124m'\u001b[39m\u001b[38;5;124mQuantity\u001b[39m\u001b[38;5;124m'\u001b[39m] \u001b[38;5;241m>\u001b[39m \u001b[38;5;241m0\u001b[39m]\n\u001b[0;32m     14\u001b[0m \u001b[38;5;66;03m# Convert InvoiceNo to string for processing\u001b[39;00m\n\u001b[0;32m     15\u001b[0m data[\u001b[38;5;124m'\u001b[39m\u001b[38;5;124mInvoiceNo\u001b[39m\u001b[38;5;124m'\u001b[39m] \u001b[38;5;241m=\u001b[39m data[\u001b[38;5;124m'\u001b[39m\u001b[38;5;124mInvoiceNo\u001b[39m\u001b[38;5;124m'\u001b[39m]\u001b[38;5;241m.\u001b[39mastype(\u001b[38;5;124m'\u001b[39m\u001b[38;5;124mstr\u001b[39m\u001b[38;5;124m'\u001b[39m)\n",
      "File \u001b[1;32mC:\\ProgramData\\anaconda3\\Lib\\site-packages\\pandas\\core\\frame.py:3807\u001b[0m, in \u001b[0;36mDataFrame.__getitem__\u001b[1;34m(self, key)\u001b[0m\n\u001b[0;32m   3805\u001b[0m \u001b[38;5;28;01mif\u001b[39;00m \u001b[38;5;28mself\u001b[39m\u001b[38;5;241m.\u001b[39mcolumns\u001b[38;5;241m.\u001b[39mnlevels \u001b[38;5;241m>\u001b[39m \u001b[38;5;241m1\u001b[39m:\n\u001b[0;32m   3806\u001b[0m     \u001b[38;5;28;01mreturn\u001b[39;00m \u001b[38;5;28mself\u001b[39m\u001b[38;5;241m.\u001b[39m_getitem_multilevel(key)\n\u001b[1;32m-> 3807\u001b[0m indexer \u001b[38;5;241m=\u001b[39m \u001b[38;5;28mself\u001b[39m\u001b[38;5;241m.\u001b[39mcolumns\u001b[38;5;241m.\u001b[39mget_loc(key)\n\u001b[0;32m   3808\u001b[0m \u001b[38;5;28;01mif\u001b[39;00m is_integer(indexer):\n\u001b[0;32m   3809\u001b[0m     indexer \u001b[38;5;241m=\u001b[39m [indexer]\n",
      "File \u001b[1;32mC:\\ProgramData\\anaconda3\\Lib\\site-packages\\pandas\\core\\indexes\\base.py:3804\u001b[0m, in \u001b[0;36mIndex.get_loc\u001b[1;34m(self, key, method, tolerance)\u001b[0m\n\u001b[0;32m   3802\u001b[0m     \u001b[38;5;28;01mreturn\u001b[39;00m \u001b[38;5;28mself\u001b[39m\u001b[38;5;241m.\u001b[39m_engine\u001b[38;5;241m.\u001b[39mget_loc(casted_key)\n\u001b[0;32m   3803\u001b[0m \u001b[38;5;28;01mexcept\u001b[39;00m \u001b[38;5;167;01mKeyError\u001b[39;00m \u001b[38;5;28;01mas\u001b[39;00m err:\n\u001b[1;32m-> 3804\u001b[0m     \u001b[38;5;28;01mraise\u001b[39;00m \u001b[38;5;167;01mKeyError\u001b[39;00m(key) \u001b[38;5;28;01mfrom\u001b[39;00m \u001b[38;5;21;01merr\u001b[39;00m\n\u001b[0;32m   3805\u001b[0m \u001b[38;5;28;01mexcept\u001b[39;00m \u001b[38;5;167;01mTypeError\u001b[39;00m:\n\u001b[0;32m   3806\u001b[0m     \u001b[38;5;66;03m# If we have a listlike key, _check_indexing_error will raise\u001b[39;00m\n\u001b[0;32m   3807\u001b[0m     \u001b[38;5;66;03m#  InvalidIndexError. Otherwise we fall through and re-raise\u001b[39;00m\n\u001b[0;32m   3808\u001b[0m     \u001b[38;5;66;03m#  the TypeError.\u001b[39;00m\n\u001b[0;32m   3809\u001b[0m     \u001b[38;5;28mself\u001b[39m\u001b[38;5;241m.\u001b[39m_check_indexing_error(key)\n",
      "\u001b[1;31mKeyError\u001b[0m: 'Quantity'"
     ]
    }
   ],
   "source": [
    "\n",
    "# Load the dataset\n",
    "import pandas as pd\n",
    "\n",
    "# Load dataset\n",
    "data = pd.read_csv('Online retail.csv', encoding='ISO-8859-1')\n",
    "\n",
    "# Check for missing values and remove duplicates\n",
    "data.dropna(inplace=True)\n",
    "data.drop_duplicates(inplace=True)\n",
    "\n",
    "# Remove transactions with negative or zero quantities\n",
    "data = data[data['Quantity'] > 0]\n",
    "\n",
    "# Convert InvoiceNo to string for processing\n",
    "data['InvoiceNo'] = data['InvoiceNo'].astype('str')\n",
    "\n",
    "# Check the first few rows of the cleaned dataset\n",
    "data.head()\n"
   ]
  },
  {
   "cell_type": "markdown",
   "id": "3f5b9ed5",
   "metadata": {},
   "source": [
    "## Task 2: Exploratory Data Analysis (EDA)"
   ]
  },
  {
   "cell_type": "code",
   "execution_count": null,
   "id": "13f29822",
   "metadata": {},
   "outputs": [],
   "source": [
    "\n",
    "import matplotlib.pyplot as plt\n",
    "import seaborn as sns\n",
    "\n",
    "# Visualize the distribution of products purchased\n",
    "plt.figure(figsize=(10, 6))\n",
    "sns.histplot(data['Quantity'], bins=50, kde=True)\n",
    "plt.title('Distribution of Product Quantities Purchased')\n",
    "plt.show()\n",
    "\n",
    "# Visualize the total revenue per country\n",
    "data['Revenue'] = data['Quantity'] * data['UnitPrice']\n",
    "country_revenue = data.groupby('Country')['Revenue'].sum().sort_values(ascending=False)\n",
    "\n",
    "plt.figure(figsize=(10, 6))\n",
    "sns.barplot(x=country_revenue.values, y=country_revenue.index)\n",
    "plt.title('Total Revenue by Country')\n",
    "plt.show()\n"
   ]
  },
  {
   "cell_type": "markdown",
   "id": "f0a9857d",
   "metadata": {},
   "source": [
    "## Task 3: Association Rule Mining with Apriori (To be implemented locally)"
   ]
  },
  {
   "cell_type": "code",
   "execution_count": null,
   "id": "4c63bd7b",
   "metadata": {},
   "outputs": [],
   "source": [
    "\n",
    "# NOTE: You'll need to install mlxtend using pip: \n",
    "# !pip install mlxtend\n",
    "# Then, you can proceed with the Apriori algorithm as follows:\n",
    "\n",
    "# from mlxtend.frequent_patterns import apriori, association_rules\n",
    "\n",
    "# Prepare data for association rule mining\n",
    "# basket = (data.groupby(['InvoiceNo', 'Description'])['Quantity'].sum().unstack().reset_index().fillna(0).set_index('InvoiceNo'))\n",
    "# def encode_units(x):\n",
    "#     return 1 if x >= 1 else 0\n",
    "# basket_encoded = basket.applymap(encode_units)\n",
    "\n",
    "# Apply Apriori algorithm with min support of 0.01\n",
    "# frequent_itemsets = apriori(basket_encoded, min_support=0.01, use_colnames=True)\n",
    "\n",
    "# Generate association rules with min confidence of 0.2\n",
    "# rules = association_rules(frequent_itemsets, metric='confidence', min_threshold=0.2)\n",
    "\n",
    "# Sort rules by lift and display the top 10\n",
    "# rules = rules.sort_values('lift', ascending=False)\n",
    "# rules.head(10)\n"
   ]
  },
  {
   "cell_type": "markdown",
   "id": "eb9fe1ac",
   "metadata": {},
   "source": [
    "## Task 4: Analysis of Association Rules (To be implemented locally)"
   ]
  },
  {
   "cell_type": "code",
   "execution_count": null,
   "id": "2f563259",
   "metadata": {},
   "outputs": [],
   "source": [
    "\n",
    "# After running the Apriori algorithm, you can visualize the top association rules as follows:\n",
    "\n",
    "# import matplotlib.pyplot as plt\n",
    "# import seaborn as sns\n",
    "\n",
    "# Visualize the top 10 association rules based on lift\n",
    "# plt.figure(figsize=(10, 6))\n",
    "# sns.barplot(x=rules['lift'].head(10), y=rules['consequents'].head(10).astype(str))\n",
    "# plt.title('Top 10 Association Rules by Lift')\n",
    "# plt.xlabel('Lift')\n",
    "# plt.ylabel('Consequent Items')\n",
    "# plt.show()\n"
   ]
  },
  {
   "cell_type": "markdown",
   "id": "5203a653",
   "metadata": {},
   "source": [
    "## Task 5: Interview Questions and Answers"
   ]
  },
  {
   "cell_type": "markdown",
   "id": "5a089746",
   "metadata": {},
   "source": [
    "\n",
    "**1. What is Lift and why is it important in Association Rules?**\n",
    "\n",
    "**Answer**: Lift is a measure of how much more likely two items are to be purchased together compared to if they were independent. A lift greater than 1 indicates a strong association, meaning that the occurrence of the antecedent increases the likelihood of the consequent occurring. Lift helps in identifying the strength of the relationship between items.\n",
    "\n",
    "**2. What is Support and Confidence? How do you calculate them?**\n",
    "\n",
    "**Answer**: Support is the proportion of transactions that contain a particular itemset. It indicates how frequently an item or set of items appears in the dataset. Confidence is a measure of the likelihood that the consequent will occur given that the antecedent has occurred. Both metrics help in determining which rules are meaningful.\n",
    "\n",
    "- **Support**: Support(X) = (Transactions containing X) / (Total Transactions)\n",
    "- **Confidence**: Confidence(X -> Y) = Support(X and Y) / Support(X)\n",
    "\n",
    "**3. What are some limitations or challenges of Association Rules mining?**\n",
    "\n",
    "**Answer**: Some challenges include:\n",
    "- Handling large datasets: Frequent itemset generation can be computationally expensive.\n",
    "- Selecting appropriate thresholds: It can be difficult to set meaningful thresholds for support, confidence, and lift.\n",
    "- Overfitting: Too many rules can lead to overfitting, generating rules that are not practically useful.\n"
   ]
  }
 ],
 "metadata": {
  "kernelspec": {
   "display_name": "Python 3 (ipykernel)",
   "language": "python",
   "name": "python3"
  },
  "language_info": {
   "codemirror_mode": {
    "name": "ipython",
    "version": 3
   },
   "file_extension": ".py",
   "mimetype": "text/x-python",
   "name": "python",
   "nbconvert_exporter": "python",
   "pygments_lexer": "ipython3",
   "version": "3.11.3"
  }
 },
 "nbformat": 4,
 "nbformat_minor": 5
}
